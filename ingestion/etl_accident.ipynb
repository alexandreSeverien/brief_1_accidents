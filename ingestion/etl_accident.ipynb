{
 "cells": [
  {
   "cell_type": "code",
   "execution_count": null,
   "id": "46003352",
   "metadata": {},
   "outputs": [
    {
     "name": "stdout",
     "output_type": "stream",
     "text": [
      "Configuration chargée et moteur de base de données créé.\n"
     ]
    }
   ],
   "source": [
    "# Installer les bibliothèques\n",
    "#pip install jupyterlab pandas requests sqlalchemy psycopg2-binary geopandas\n",
    "\n",
    "import requests\n",
    "import pandas as pd\n",
    "import geopandas as gpd\n",
    "from sqlalchemy import create_engine\n",
    "from shapely.geometry import Point\n",
    "import io\n",
    "\n",
    "# --- CONSTANTES ---\n",
    "# URL de l'API Opendatasoft\n",
    "# Nous limitons à 10000 enregistrements pour cet exemple. Retirez le paramètre &rows=10000 pour tout récupérer.\n",
    "#API_URL = \"https://public.opendatasoft.com/explore/assets/accidents-corporels-de-la-circulation-millesime/\"\n",
    "\n",
    "\n",
    "\n",
    "# --- CONFIGURATION ---\n",
    "# API\n",
    "API_URL = \"https://public.opendatasoft.com/api/records/1.0/search/\"\n",
    "DATASET_ID = \"accidents-corpels-de-la-circulation-millesime\"\n",
    "ROWS_PER_REQUEST = 10000\n",
    "#EAR_TO_PROCESS = 2022   # <--- C'est ici que vous pouvez changer l'année à traiter\n",
    "\n",
    "# Base de données (identifiants de votre docker-compose.yml)\n",
    "DB_USER = \"user_securite_routiere\"\n",
    "DB_PASSWORD = \"password123\"\n",
    "DB_HOST = \"localhost\"\n",
    "DB_PORT = \"5432\"\n",
    "DB_NAME = \"securite_routiere_db\"\n",
    "DATABASE_URL = f\"postgresql://{DB_USER}:{DB_PASSWORD}@{DB_HOST}:{DB_PORT}/{DB_NAME}\"\n",
    "\n",
    "# Crée le moteur de connexion à la base de données\n",
    "engine = create_engine(DATABASE_URL)\n",
    "\n",
    "print(\"Configuration chargée et moteur de base de données créé.\")\n",
    "\n"
   ]
  },
  {
   "cell_type": "code",
   "execution_count": 2,
   "id": "d7564619",
   "metadata": {},
   "outputs": [
    {
     "name": "stdout",
     "output_type": "stream",
     "text": [
      "Début de l'extraction des données depuis l'API...\n",
      "Erreur lors de l'appel API : 400 Client Error: Bad Request for url: https://public.opendatasoft.com/api/records/1.0/search/\n"
     ]
    }
   ],
   "source": [
    "# --- EXTRACTION ---\n",
    "print(\"Début de l'extraction des données depuis l'API...\")\n",
    "\n",
    "try:\n",
    "    response = requests.get(API_URL)\n",
    "    response.raise_for_status()  # Lève une exception si la requête a échoué\n",
    "    \n",
    "    # Utiliser io.StringIO pour lire le contenu CSV en mémoire\n",
    "    csv_data = io.StringIO(response.text)\n",
    "    \n",
    "    df_brut = pd.read_csv(csv_data, sep=';')\n",
    "    \n",
    "    print(f\"Extraction terminée. {len(df_brut)} enregistrements téléchargés.\")\n",
    "    print(\"Aperçu des données brutes :\")\n",
    "    print(df_brut.head())\n",
    "\n",
    "except requests.exceptions.RequestException as e:\n",
    "    print(f\"Erreur lors de l'appel API : {e}\")\n",
    "    df_brut = pd.DataFrame() # Créer un dataframe vide en cas d'erreur"
   ]
  }
 ],
 "metadata": {
  "kernelspec": {
   "display_name": "venv",
   "language": "python",
   "name": "python3"
  },
  "language_info": {
   "codemirror_mode": {
    "name": "ipython",
    "version": 3
   },
   "file_extension": ".py",
   "mimetype": "text/x-python",
   "name": "python",
   "nbconvert_exporter": "python",
   "pygments_lexer": "ipython3",
   "version": "3.12.7"
  }
 },
 "nbformat": 4,
 "nbformat_minor": 5
}
