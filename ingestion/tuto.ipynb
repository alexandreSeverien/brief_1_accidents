{
 "cells": [
  {
   "cell_type": "markdown",
   "id": "22fd0206",
   "metadata": {},
   "source": [
    "## Config .env\n",
    "DB_USER=user_securite_routiere\n",
    "DB_PASSWORD=password123\n",
    "DB_HOST=localhost\n",
    "DB_PORT=5432\n",
    "DB_NAME=securite_routiere_db"
   ]
  },
  {
   "cell_type": "markdown",
   "id": "04f779f2",
   "metadata": {},
   "source": [
    "Une fois que le fichier .env est bien configuré on peut lancer ça et commencer à travailler"
   ]
  },
  {
   "cell_type": "code",
   "execution_count": null,
   "id": "6f984445",
   "metadata": {},
   "outputs": [],
   "source": [
    "import sys\n",
    "sys.path.append(\"..\")  # remonte d'un niveau vers le dossier parent\n",
    "from utils.utils import connect_to_db, insert_data_to_db, mapping_colonnes, fetch_data_from_db\n",
    "engine = connect_to_db()\n",
    "df = fetch_data_from_db(table_name='accidents_raw', engine=engine, schema='bronze')\n",
    "df"
   ]
  },
  {
   "cell_type": "code",
   "execution_count": null,
   "id": "86794173",
   "metadata": {},
   "outputs": [],
   "source": [
    "df_accident = df.copy()"
   ]
  },
  {
   "cell_type": "markdown",
   "id": "6e2551f6",
   "metadata": {},
   "source": [
    "Dès qu'on a le dataframe prêt à être insérer dans la table on peut utiliser insert_data_to_db :"
   ]
  },
  {
   "cell_type": "code",
   "execution_count": null,
   "id": "90374b78",
   "metadata": {},
   "outputs": [],
   "source": [
    "insert_data_to_db(df_accident, table_name='accidents', engine=engine, schema='silver') # Par exemple pour insérer dans la table 'accidents' du schéma 'silver'"
   ]
  }
 ],
 "metadata": {
  "language_info": {
   "name": "python"
  }
 },
 "nbformat": 4,
 "nbformat_minor": 5
}
