{
 "cells": [
  {
   "cell_type": "code",
   "execution_count": 29,
   "id": "1d133307",
   "metadata": {},
   "outputs": [
    {
     "name": "stdout",
     "output_type": "stream",
     "text": [
      "✅ Connexion à la base PostgreSQL réussie !\n",
      "OK: \"bronze\".\"accidents_raw\"\n"
     ]
    },
    {
     "data": {
      "text/plain": [
       "Index(['Identifiant de l'accident', 'Date et heure', 'Commune', 'Année',\n",
       "       'Mois', 'Jour', 'Heure minute', 'Lumière', 'Localisation',\n",
       "       'Intersection', 'Conditions atmosphériques', 'Collision', 'Département',\n",
       "       'Code commune', 'Code Insee', 'Adresse', 'Latitude', 'Longitude',\n",
       "       'Code Postal', 'Numéro', 'Coordonnées', 'PR', 'Surface', 'V1',\n",
       "       'Circulation', 'Voie réservée', 'Env1', 'Voie',\n",
       "       'Largeur de la chaussée', 'V2', 'Largeur terre plein central',\n",
       "       'Nombre de voies', 'Catégorie route', 'PR1', 'Plan', 'Profil',\n",
       "       'Infrastructure', 'Situation', 'Année de naissance', 'Sexe',\n",
       "       'Action piéton', 'Gravité', 'Existence équipement de sécurité',\n",
       "       'Utilisation équipement de sécurité', 'Localisation du piéton',\n",
       "       'Identifiant véhicule', 'Place', 'Catégorie d'usager',\n",
       "       'Piéton seul ou non', 'Motif trajet', 'Point de choc', 'Manœuvre',\n",
       "       'Sens', 'Obstacle mobile heurté', 'Obstacle fixe heurté',\n",
       "       'Catégorie véhicule', 'Nombre d'occupants', 'Gps', 'date',\n",
       "       'year_georef', 'Nom Officiel Commune', 'Code Officiel Département',\n",
       "       'Nom Officiel Département', 'Code Officiel EPCI', 'Nom Officiel EPCI',\n",
       "       'Code Officiel Région', 'Nom Officiel Région',\n",
       "       'Nom Officiel Commune / Arrondissement Municipal',\n",
       "       'Code Officiel Commune'],\n",
       "      dtype='object')"
      ]
     },
     "execution_count": 29,
     "metadata": {},
     "output_type": "execute_result"
    }
   ],
   "source": [
    "import sys\n",
    "sys.path.append(\"..\")  # remonte d'un niveau vers le dossier parent\n",
    "from utils.utils import connect_to_db, insert_data_to_db, mapping_colonnes, fetch_data_from_db\n",
    "engine = connect_to_db()\n",
    "df = fetch_data_from_db(table_name='accidents_raw', engine=engine, schema='bronze')\n",
    "df.columns"
   ]
  },
  {
   "cell_type": "code",
   "execution_count": 30,
   "id": "2a098bce",
   "metadata": {},
   "outputs": [
    {
     "data": {
      "text/plain": [
       "69"
      ]
     },
     "execution_count": 30,
     "metadata": {},
     "output_type": "execute_result"
    }
   ],
   "source": [
    "mapping_colonnes = {\n",
    "    # --- Caractéristiques de l'accident (12) ---\n",
    "    \"Identifiant de l'accident\": \"num_acc\",\n",
    "    \"Date et heure\": \"datetime\",\n",
    "    \"Année\": \"an\",\n",
    "    \"Mois\": \"mois\",\n",
    "    \"Jour\": \"jour\",\n",
    "    \"Heure minute\": \"hrmn\",\n",
    "    \"Lumière\": \"lum\",\n",
    "    \"Localisation\": \"agg\",\n",
    "    \"Intersection\": \"int\",\n",
    "    \"Conditions atmosphériques\": \"atm\",\n",
    "    \"Collision\": \"col\",\n",
    "    \"Situation\": \"situ\",\n",
    "\n",
    "    # --- Lieu (30) ---\n",
    "    \"Département\": \"dep\",\n",
    "    \"Code commune\": \"com\",\n",
    "    \"Code Insee\": \"insee\",\n",
    "    \"Adresse\": \"adr\",\n",
    "    \"Latitude\": \"lat\",\n",
    "    \"Longitude\": \"long\",\n",
    "    \"Code Postal\": \"code_postal\",\n",
    "    \"Numéro\": \"num\",\n",
    "    \"Coordonnées\": \"coordonnees\",\n",
    "    \"PR\": \"pr\",\n",
    "    \"Surface\": \"surf\",\n",
    "    \"V1\": \"v1\",\n",
    "    \"Circulation\": \"circ\",\n",
    "    \"Voie réservée\": \"vosp\",\n",
    "    \"Env1\": \"env1\",\n",
    "    \"Voie\": \"voie\",\n",
    "    \"Largeur de la chaussée\": \"larrout\",\n",
    "    \"V2\": \"v2\",\n",
    "    \"Largeur terre plein central\": \"lartpc\",\n",
    "    \"Nombre de voies\": \"nbv\",\n",
    "    \"Catégorie route\": \"catr\",\n",
    "    \"PR1\": \"pr1\",\n",
    "    \"Plan\": \"plan\",\n",
    "    \"Profil\": \"prof\",\n",
    "    \"Infrastructure\": \"infra\",\n",
    "    \"Gps\": \"gps\",\n",
    "    \"date\": \"date\", \n",
    "    \"year_georef\": \"year_georef\",\n",
    "    \"Commune\": \"nom_com\", \n",
    "    \"Nom Officiel Commune\": \"com_name\",\n",
    "\n",
    "    # --- Usager (11) ---\n",
    "    \"Année de naissance\": \"an_nais\",\n",
    "    \"Sexe\": \"sexe\",\n",
    "    \"Action piéton\": \"actp\",\n",
    "    \"Gravité\": \"grav\",\n",
    "    \"Existence équipement de sécurité\": \"secu\",\n",
    "    \"Utilisation équipement de sécurité\": \"secu_utl\",\n",
    "    \"Localisation du piéton\": \"locp\",\n",
    "    \"Place\": \"place\",\n",
    "    \"Catégorie d'usager\": \"catu\",\n",
    "    \"Piéton seul ou non\": \"etatp\",\n",
    "    \"Motif trajet\": \"trajet\",\n",
    "\n",
    "    # --- Véhicule (8) ---\n",
    "    \"Identifiant véhicule\": \"num_veh\",\n",
    "    \"Point de choc\": \"choc\",\n",
    "    \"Manœuvre\": \"manv\",\n",
    "    \"Sens\": \"senc\",\n",
    "    \"Obstacle mobile heurté\": \"obsm\",\n",
    "    \"Obstacle fixe heurté\": \"obs\",\n",
    "    \"Catégorie véhicule\": \"catv\",\n",
    "    \"Nombre d'occupants\": \"occutc\",\n",
    "\n",
    "    # --- Noms et Codes Officiels (8) ---\n",
    "    \"Code Officiel Département\": \"dep_code\", \n",
    "    \"Nom Officiel Département\": \"dep_name\",\n",
    "    \"Code Officiel EPCI\": \"epci_code\",       \n",
    "    \"Nom Officiel EPCI\": \"epci_name\",\n",
    "    \"Code Officiel Région\": \"reg_code\",       \n",
    "    \"Nom Officiel Région\": \"reg_name\",\n",
    "    \"Nom Officiel Commune / Arrondissement Municipal\": \"com_arm_name\",\n",
    "    \"Code Officiel Commune\": \"code_com\"         \n",
    "}\n",
    "\n",
    "len(mapping_colonnes)"
   ]
  },
  {
   "cell_type": "code",
   "execution_count": 31,
   "id": "905533b1",
   "metadata": {},
   "outputs": [
    {
     "name": "stdout",
     "output_type": "stream",
     "text": [
      "✅ Données filtrées pour la table 'silver.accident' :\n"
     ]
    }
   ],
   "source": [
    "df = df.rename(columns=mapping_colonnes)\n",
    "\n",
    "\n",
    "# --- Colonnes à conserver selon la table silver.region ---\n",
    "colonnes_accident = [\"num_acc\", \"com\", \"adr\",\"datetime\",\"year_georef\"]\n",
    "\n",
    "# --- Vérifier que les colonnes existent et les filtrer ---\n",
    "colonnes_disponibles = [col for col in colonnes_accident if col in df.columns]\n",
    "\n",
    "if not colonnes_disponibles:\n",
    "    raise ValueError('⚠️ Aucune des colonnes [\"num_acc\", \"com\", \"adr\",\"datetime\",\"year_georef\"] n\\'existe dans accidents_raw.')\n",
    "\n",
    "\n",
    "df_accident = df[colonnes_disponibles]\n",
    "\n",
    "print(\"✅ Données filtrées pour la table 'silver.accident' :\")\n"
   ]
  },
  {
   "cell_type": "code",
   "execution_count": 32,
   "id": "6144debc",
   "metadata": {},
   "outputs": [
    {
     "name": "stdout",
     "output_type": "stream",
     "text": [
      "             num_acc  com                     adr                   datetime  \\\n",
      "302293  201200000001  011   33 Rue Roger Salengro  2012-03-16T19:30:00+01:00   \n",
      "250226  201200000002  011            route de DON  2012-09-01T21:45:00+02:00   \n",
      "353405  201200000003  670      rue Anatole France  2012-11-20T18:15:00+01:00   \n",
      "50968   201200000004  051          Rue d'ESTAIRES  2012-01-07T19:15:00+01:00   \n",
      "201995  201200000005  524  Rue du Général Leclerc  2012-01-17T20:00:00+01:00   \n",
      "265458  201200000006  051      34 rue de la Marne  2012-01-22T18:00:00+01:00   \n",
      "213542  201200000007  051          13 RUE DE LENS  2012-04-14T16:45:00+02:00   \n",
      "338147  201200000008  524        533 Rue Gambetta  2012-07-13T16:00:00+02:00   \n",
      "25030   201200000009  550           Rte Nationale  2012-08-10T17:00:00+02:00   \n",
      "75352   201200000010  388            Rue du Faulx  2012-09-14T04:45:00+02:00   \n",
      "\n",
      "       year_georef  \n",
      "302293        2015  \n",
      "250226        2015  \n",
      "353405        2015  \n",
      "50968         2015  \n",
      "201995        2015  \n",
      "265458        2015  \n",
      "213542        2015  \n",
      "338147        2015  \n",
      "25030         2015  \n",
      "75352         2015  \n"
     ]
    }
   ],
   "source": [
    "# Supprimer les doublons sur epci_code (car c’est une clé unique)\n",
    "df_accident = df_accident.drop_duplicates(subset=\"num_acc\", keep=\"first\")\n",
    "#supprimer les lignes vide\n",
    "df_accident = df_accident.dropna(how=\"all\")\n",
    "\n",
    "df_accident = df_accident.sort_values(by=\"num_acc\", ascending=True)\n",
    "print(df_accident.head(10))"
   ]
  },
  {
   "cell_type": "code",
   "execution_count": 33,
   "metadata": {
    "vscode": {
     "languageId": "ruby"
    }
   },
   "outputs": [
    {
     "name": "stdout",
     "output_type": "stream",
     "text": [
      "🔍 Valeurs manquantes avant nettoyage :\n",
      "num_acc            0\n",
      "com                0\n",
      "adr            49256\n",
      "datetime           0\n",
      "year_georef        0\n",
      "dtype: int64\n"
     ]
    }
   ],
   "source": [
    "print(\"🔍 Valeurs manquantes avant nettoyage :\")\n",
    "print(df_accident.isna().sum())\n",
    "# Supprimer les lignes sans num_acc\n",
    "df_accident = df_accident.dropna(subset=[\"num_acc\"])\n",
    "# Remplacer les valeurs manquantes \n",
    "df_accident[\"adr\"] = df_accident[\"adr\"].fillna(\"Inconnu\")\n",
    "df_accident[\"datetime\"] = df_accident[\"datetime\"].fillna(\"Inconnu\")\n",
    "df_accident[\"year_georef\"] = df_accident[\"year_georef\"].fillna(\"Inconnu\")\n",
    "df_accident[\"com\"] = df_accident[\"com\"].fillna(\"Inconnu\")"
   ]
  },
  {
   "cell_type": "code",
   "execution_count": 34,
   "id": "249becb8",
   "metadata": {},
   "outputs": [
    {
     "name": "stdout",
     "output_type": "stream",
     "text": [
      "✅ Aperçu des données nettoyées :\n",
      "             num_acc  com                     adr                   datetime  \\\n",
      "302293  201200000001  011   33 Rue Roger Salengro  2012-03-16T19:30:00+01:00   \n",
      "250226  201200000002  011            route de DON  2012-09-01T21:45:00+02:00   \n",
      "353405  201200000003  670      rue Anatole France  2012-11-20T18:15:00+01:00   \n",
      "50968   201200000004  051          Rue d'ESTAIRES  2012-01-07T19:15:00+01:00   \n",
      "201995  201200000005  524  Rue du Général Leclerc  2012-01-17T20:00:00+01:00   \n",
      "265458  201200000006  051      34 rue de la Marne  2012-01-22T18:00:00+01:00   \n",
      "213542  201200000007  051          13 RUE DE LENS  2012-04-14T16:45:00+02:00   \n",
      "338147  201200000008  524        533 Rue Gambetta  2012-07-13T16:00:00+02:00   \n",
      "25030   201200000009  550           Rte Nationale  2012-08-10T17:00:00+02:00   \n",
      "75352   201200000010  388            Rue du Faulx  2012-09-14T04:45:00+02:00   \n",
      "\n",
      "       year_georef  \n",
      "302293        2015  \n",
      "250226        2015  \n",
      "353405        2015  \n",
      "50968         2015  \n",
      "201995        2015  \n",
      "265458        2015  \n",
      "213542        2015  \n",
      "338147        2015  \n",
      "25030         2015  \n",
      "75352         2015  \n",
      "🔍 Nombre de valeurs nulles par colonne :\n",
      "num_acc        0\n",
      "com            0\n",
      "adr            0\n",
      "datetime       0\n",
      "year_georef    0\n",
      "dtype: int64\n"
     ]
    }
   ],
   "source": [
    "df_accident = df_accident.loc[:, ~df_accident.columns.duplicated()]\n",
    "print(\"✅ Aperçu des données nettoyées :\")\n",
    "print(df_accident.head(10))\n",
    "print(\"🔍 Nombre de valeurs nulles par colonne :\")\n",
    "print(df_accident.isna().sum())"
   ]
  },
  {
   "cell_type": "code",
   "execution_count": 35,
   "id": "005d081c",
   "metadata": {},
   "outputs": [
    {
     "ename": "IntegrityError",
     "evalue": "(psycopg2.errors.ForeignKeyViolation) insert or update on table \"accident\" violates foreign key constraint \"fk_accident_commune\"\nDETAIL:  Key (com)=(011) is not present in table \"commune\".\n\n[SQL: INSERT INTO silver.accident (num_acc,com,adr,datetime,year_georef) VALUES (%(num_acc)s,%(com)s,%(adr)s,%(datetime)s,%(year_georef)s)]\n[parameters: [{'num_acc': '201200000001', 'com': '011', 'adr': '33 Rue Roger Salengro', 'datetime': '2012-03-16T19:30:00+01:00', 'year_georef': '2015'}, {'num_acc': '201200000002', 'com': '011', 'adr': 'route de DON', 'datetime': '2012-09-01T21:45:00+02:00', 'year_georef': '2015'}, {'num_acc': '201200000003', 'com': '670', 'adr': 'rue Anatole France', 'datetime': '2012-11-20T18:15:00+01:00', 'year_georef': '2015'}, {'num_acc': '201200000004', 'com': '051', 'adr': \"Rue d'ESTAIRES\", 'datetime': '2012-01-07T19:15:00+01:00', 'year_georef': '2015'}, {'num_acc': '201200000005', 'com': '524', 'adr': 'Rue du Général Leclerc', 'datetime': '2012-01-17T20:00:00+01:00', 'year_georef': '2015'}, {'num_acc': '201200000006', 'com': '051', 'adr': '34 rue de la Marne', 'datetime': '2012-01-22T18:00:00+01:00', 'year_georef': '2015'}, {'num_acc': '201200000007', 'com': '051', 'adr': '13 RUE DE LENS', 'datetime': '2012-04-14T16:45:00+02:00', 'year_georef': '2015'}, {'num_acc': '201200000008', 'com': '524', 'adr': '533 Rue Gambetta', 'datetime': '2012-07-13T16:00:00+02:00', 'year_georef': '2015'}  ... displaying 10 of 475911 total bound parameter sets ...  {'num_acc': '201900058839', 'com': '78640', 'adr': 'A86 EXT', 'datetime': '2019-11-30T15:20:00+01:00', 'year_georef': '2019'}, {'num_acc': '201900058840', 'com': '92047', 'adr': 'A13', 'datetime': '2019-11-29T20:50:00+01:00', 'year_georef': '2019'}]]\n(Background on this error at: https://sqlalche.me/e/20/gkpj)",
     "output_type": "error",
     "traceback": [
      "\u001b[1;31m---------------------------------------------------------------------------\u001b[0m",
      "\u001b[1;31mForeignKeyViolation\u001b[0m                       Traceback (most recent call last)",
      "File \u001b[1;32m~\\AppData\\Local\\Packages\\PythonSoftwareFoundation.Python.3.10_qbz5n2kfra8p0\\LocalCache\\local-packages\\Python310\\site-packages\\sqlalchemy\\engine\\base.py:1936\u001b[0m, in \u001b[0;36mConnection._exec_single_context\u001b[1;34m(self, dialect, context, statement, parameters)\u001b[0m\n\u001b[0;32m   1935\u001b[0m     \u001b[38;5;28;01mif\u001b[39;00m \u001b[38;5;129;01mnot\u001b[39;00m evt_handled:\n\u001b[1;32m-> 1936\u001b[0m         \u001b[38;5;28;43mself\u001b[39;49m\u001b[38;5;241;43m.\u001b[39;49m\u001b[43mdialect\u001b[49m\u001b[38;5;241;43m.\u001b[39;49m\u001b[43mdo_executemany\u001b[49m\u001b[43m(\u001b[49m\n\u001b[0;32m   1937\u001b[0m \u001b[43m            \u001b[49m\u001b[43mcursor\u001b[49m\u001b[43m,\u001b[49m\n\u001b[0;32m   1938\u001b[0m \u001b[43m            \u001b[49m\u001b[43mstr_statement\u001b[49m\u001b[43m,\u001b[49m\n\u001b[0;32m   1939\u001b[0m \u001b[43m            \u001b[49m\u001b[43meffective_parameters\u001b[49m\u001b[43m,\u001b[49m\n\u001b[0;32m   1940\u001b[0m \u001b[43m            \u001b[49m\u001b[43mcontext\u001b[49m\u001b[43m,\u001b[49m\n\u001b[0;32m   1941\u001b[0m \u001b[43m        \u001b[49m\u001b[43m)\u001b[49m\n\u001b[0;32m   1942\u001b[0m \u001b[38;5;28;01melif\u001b[39;00m \u001b[38;5;129;01mnot\u001b[39;00m effective_parameters \u001b[38;5;129;01mand\u001b[39;00m context\u001b[38;5;241m.\u001b[39mno_parameters:\n",
      "File \u001b[1;32m~\\AppData\\Local\\Packages\\PythonSoftwareFoundation.Python.3.10_qbz5n2kfra8p0\\LocalCache\\local-packages\\Python310\\site-packages\\sqlalchemy\\dialects\\postgresql\\psycopg2.py:800\u001b[0m, in \u001b[0;36mPGDialect_psycopg2.do_executemany\u001b[1;34m(self, cursor, statement, parameters, context)\u001b[0m\n\u001b[0;32m    799\u001b[0m \u001b[38;5;28;01melse\u001b[39;00m:\n\u001b[1;32m--> 800\u001b[0m     \u001b[43mcursor\u001b[49m\u001b[38;5;241;43m.\u001b[39;49m\u001b[43mexecutemany\u001b[49m\u001b[43m(\u001b[49m\u001b[43mstatement\u001b[49m\u001b[43m,\u001b[49m\u001b[43m \u001b[49m\u001b[43mparameters\u001b[49m\u001b[43m)\u001b[49m\n",
      "\u001b[1;31mForeignKeyViolation\u001b[0m: insert or update on table \"accident\" violates foreign key constraint \"fk_accident_commune\"\nDETAIL:  Key (com)=(011) is not present in table \"commune\".\n",
      "\nThe above exception was the direct cause of the following exception:\n",
      "\u001b[1;31mIntegrityError\u001b[0m                            Traceback (most recent call last)",
      "Input \u001b[1;32mIn [35]\u001b[0m, in \u001b[0;36m<cell line: 1>\u001b[1;34m()\u001b[0m\n\u001b[1;32m----> 1\u001b[0m \u001b[43minsert_data_to_db\u001b[49m\u001b[43m(\u001b[49m\u001b[43mdf_accident\u001b[49m\u001b[43m,\u001b[49m\u001b[43m \u001b[49m\u001b[43mtable_name\u001b[49m\u001b[38;5;241;43m=\u001b[39;49m\u001b[38;5;124;43m'\u001b[39;49m\u001b[38;5;124;43msilver.accident\u001b[39;49m\u001b[38;5;124;43m'\u001b[39;49m\u001b[43m,\u001b[49m\u001b[43m \u001b[49m\u001b[43mengine\u001b[49m\u001b[38;5;241;43m=\u001b[39;49m\u001b[43mengine\u001b[49m\u001b[43m)\u001b[49m\n",
      "File \u001b[1;32mc:\\Users\\asus\\Documents\\GitHub\\brief_1_accidents\\ingestion\\..\\utils\\utils.py:64\u001b[0m, in \u001b[0;36minsert_data_to_db\u001b[1;34m(df, table_name, engine)\u001b[0m\n\u001b[0;32m     62\u001b[0m placeholders \u001b[38;5;241m=\u001b[39m \u001b[38;5;124m\"\u001b[39m\u001b[38;5;124m,\u001b[39m\u001b[38;5;124m\"\u001b[39m\u001b[38;5;241m.\u001b[39mjoin([\u001b[38;5;124mf\u001b[39m\u001b[38;5;124m\"\u001b[39m\u001b[38;5;124m:\u001b[39m\u001b[38;5;132;01m{\u001b[39;00mc\u001b[38;5;132;01m}\u001b[39;00m\u001b[38;5;124m\"\u001b[39m \u001b[38;5;28;01mfor\u001b[39;00m c \u001b[38;5;129;01min\u001b[39;00m df\u001b[38;5;241m.\u001b[39mcolumns])\n\u001b[0;32m     63\u001b[0m query \u001b[38;5;241m=\u001b[39m text(\u001b[38;5;124mf\u001b[39m\u001b[38;5;124m\"\u001b[39m\u001b[38;5;124mINSERT INTO \u001b[39m\u001b[38;5;132;01m{\u001b[39;00mtable_name\u001b[38;5;132;01m}\u001b[39;00m\u001b[38;5;124m (\u001b[39m\u001b[38;5;132;01m{\u001b[39;00mcols\u001b[38;5;132;01m}\u001b[39;00m\u001b[38;5;124m) VALUES (\u001b[39m\u001b[38;5;132;01m{\u001b[39;00mplaceholders\u001b[38;5;132;01m}\u001b[39;00m\u001b[38;5;124m)\u001b[39m\u001b[38;5;124m\"\u001b[39m)\n\u001b[1;32m---> 64\u001b[0m \u001b[43mconn\u001b[49m\u001b[38;5;241;43m.\u001b[39;49m\u001b[43mexecute\u001b[49m\u001b[43m(\u001b[49m\u001b[43mquery\u001b[49m\u001b[43m,\u001b[49m\u001b[43m \u001b[49m\u001b[43mrecords\u001b[49m\u001b[43m)\u001b[49m\n",
      "File \u001b[1;32m~\\AppData\\Local\\Packages\\PythonSoftwareFoundation.Python.3.10_qbz5n2kfra8p0\\LocalCache\\local-packages\\Python310\\site-packages\\sqlalchemy\\engine\\base.py:1419\u001b[0m, in \u001b[0;36mConnection.execute\u001b[1;34m(self, statement, parameters, execution_options)\u001b[0m\n\u001b[0;32m   1417\u001b[0m     \u001b[38;5;28;01mraise\u001b[39;00m exc\u001b[38;5;241m.\u001b[39mObjectNotExecutableError(statement) \u001b[38;5;28;01mfrom\u001b[39;00m \u001b[38;5;21;01merr\u001b[39;00m\n\u001b[0;32m   1418\u001b[0m \u001b[38;5;28;01melse\u001b[39;00m:\n\u001b[1;32m-> 1419\u001b[0m     \u001b[38;5;28;01mreturn\u001b[39;00m \u001b[43mmeth\u001b[49m\u001b[43m(\u001b[49m\n\u001b[0;32m   1420\u001b[0m \u001b[43m        \u001b[49m\u001b[38;5;28;43mself\u001b[39;49m\u001b[43m,\u001b[49m\n\u001b[0;32m   1421\u001b[0m \u001b[43m        \u001b[49m\u001b[43mdistilled_parameters\u001b[49m\u001b[43m,\u001b[49m\n\u001b[0;32m   1422\u001b[0m \u001b[43m        \u001b[49m\u001b[43mexecution_options\u001b[49m\u001b[43m \u001b[49m\u001b[38;5;129;43;01mor\u001b[39;49;00m\u001b[43m \u001b[49m\u001b[43mNO_OPTIONS\u001b[49m\u001b[43m,\u001b[49m\n\u001b[0;32m   1423\u001b[0m \u001b[43m    \u001b[49m\u001b[43m)\u001b[49m\n",
      "File \u001b[1;32m~\\AppData\\Local\\Packages\\PythonSoftwareFoundation.Python.3.10_qbz5n2kfra8p0\\LocalCache\\local-packages\\Python310\\site-packages\\sqlalchemy\\sql\\elements.py:526\u001b[0m, in \u001b[0;36mClauseElement._execute_on_connection\u001b[1;34m(self, connection, distilled_params, execution_options)\u001b[0m\n\u001b[0;32m    524\u001b[0m     \u001b[38;5;28;01mif\u001b[39;00m TYPE_CHECKING:\n\u001b[0;32m    525\u001b[0m         \u001b[38;5;28;01massert\u001b[39;00m \u001b[38;5;28misinstance\u001b[39m(\u001b[38;5;28mself\u001b[39m, Executable)\n\u001b[1;32m--> 526\u001b[0m     \u001b[38;5;28;01mreturn\u001b[39;00m \u001b[43mconnection\u001b[49m\u001b[38;5;241;43m.\u001b[39;49m\u001b[43m_execute_clauseelement\u001b[49m\u001b[43m(\u001b[49m\n\u001b[0;32m    527\u001b[0m \u001b[43m        \u001b[49m\u001b[38;5;28;43mself\u001b[39;49m\u001b[43m,\u001b[49m\u001b[43m \u001b[49m\u001b[43mdistilled_params\u001b[49m\u001b[43m,\u001b[49m\u001b[43m \u001b[49m\u001b[43mexecution_options\u001b[49m\n\u001b[0;32m    528\u001b[0m \u001b[43m    \u001b[49m\u001b[43m)\u001b[49m\n\u001b[0;32m    529\u001b[0m \u001b[38;5;28;01melse\u001b[39;00m:\n\u001b[0;32m    530\u001b[0m     \u001b[38;5;28;01mraise\u001b[39;00m exc\u001b[38;5;241m.\u001b[39mObjectNotExecutableError(\u001b[38;5;28mself\u001b[39m)\n",
      "File \u001b[1;32m~\\AppData\\Local\\Packages\\PythonSoftwareFoundation.Python.3.10_qbz5n2kfra8p0\\LocalCache\\local-packages\\Python310\\site-packages\\sqlalchemy\\engine\\base.py:1641\u001b[0m, in \u001b[0;36mConnection._execute_clauseelement\u001b[1;34m(self, elem, distilled_parameters, execution_options)\u001b[0m\n\u001b[0;32m   1629\u001b[0m compiled_cache: Optional[CompiledCacheType] \u001b[38;5;241m=\u001b[39m execution_options\u001b[38;5;241m.\u001b[39mget(\n\u001b[0;32m   1630\u001b[0m     \u001b[38;5;124m\"\u001b[39m\u001b[38;5;124mcompiled_cache\u001b[39m\u001b[38;5;124m\"\u001b[39m, \u001b[38;5;28mself\u001b[39m\u001b[38;5;241m.\u001b[39mengine\u001b[38;5;241m.\u001b[39m_compiled_cache\n\u001b[0;32m   1631\u001b[0m )\n\u001b[0;32m   1633\u001b[0m compiled_sql, extracted_params, cache_hit \u001b[38;5;241m=\u001b[39m elem\u001b[38;5;241m.\u001b[39m_compile_w_cache(\n\u001b[0;32m   1634\u001b[0m     dialect\u001b[38;5;241m=\u001b[39mdialect,\n\u001b[0;32m   1635\u001b[0m     compiled_cache\u001b[38;5;241m=\u001b[39mcompiled_cache,\n\u001b[1;32m   (...)\u001b[0m\n\u001b[0;32m   1639\u001b[0m     linting\u001b[38;5;241m=\u001b[39m\u001b[38;5;28mself\u001b[39m\u001b[38;5;241m.\u001b[39mdialect\u001b[38;5;241m.\u001b[39mcompiler_linting \u001b[38;5;241m|\u001b[39m compiler\u001b[38;5;241m.\u001b[39mWARN_LINTING,\n\u001b[0;32m   1640\u001b[0m )\n\u001b[1;32m-> 1641\u001b[0m ret \u001b[38;5;241m=\u001b[39m \u001b[38;5;28;43mself\u001b[39;49m\u001b[38;5;241;43m.\u001b[39;49m\u001b[43m_execute_context\u001b[49m\u001b[43m(\u001b[49m\n\u001b[0;32m   1642\u001b[0m \u001b[43m    \u001b[49m\u001b[43mdialect\u001b[49m\u001b[43m,\u001b[49m\n\u001b[0;32m   1643\u001b[0m \u001b[43m    \u001b[49m\u001b[43mdialect\u001b[49m\u001b[38;5;241;43m.\u001b[39;49m\u001b[43mexecution_ctx_cls\u001b[49m\u001b[38;5;241;43m.\u001b[39;49m\u001b[43m_init_compiled\u001b[49m\u001b[43m,\u001b[49m\n\u001b[0;32m   1644\u001b[0m \u001b[43m    \u001b[49m\u001b[43mcompiled_sql\u001b[49m\u001b[43m,\u001b[49m\n\u001b[0;32m   1645\u001b[0m \u001b[43m    \u001b[49m\u001b[43mdistilled_parameters\u001b[49m\u001b[43m,\u001b[49m\n\u001b[0;32m   1646\u001b[0m \u001b[43m    \u001b[49m\u001b[43mexecution_options\u001b[49m\u001b[43m,\u001b[49m\n\u001b[0;32m   1647\u001b[0m \u001b[43m    \u001b[49m\u001b[43mcompiled_sql\u001b[49m\u001b[43m,\u001b[49m\n\u001b[0;32m   1648\u001b[0m \u001b[43m    \u001b[49m\u001b[43mdistilled_parameters\u001b[49m\u001b[43m,\u001b[49m\n\u001b[0;32m   1649\u001b[0m \u001b[43m    \u001b[49m\u001b[43melem\u001b[49m\u001b[43m,\u001b[49m\n\u001b[0;32m   1650\u001b[0m \u001b[43m    \u001b[49m\u001b[43mextracted_params\u001b[49m\u001b[43m,\u001b[49m\n\u001b[0;32m   1651\u001b[0m \u001b[43m    \u001b[49m\u001b[43mcache_hit\u001b[49m\u001b[38;5;241;43m=\u001b[39;49m\u001b[43mcache_hit\u001b[49m\u001b[43m,\u001b[49m\n\u001b[0;32m   1652\u001b[0m \u001b[43m\u001b[49m\u001b[43m)\u001b[49m\n\u001b[0;32m   1653\u001b[0m \u001b[38;5;28;01mif\u001b[39;00m has_events:\n\u001b[0;32m   1654\u001b[0m     \u001b[38;5;28mself\u001b[39m\u001b[38;5;241m.\u001b[39mdispatch\u001b[38;5;241m.\u001b[39mafter_execute(\n\u001b[0;32m   1655\u001b[0m         \u001b[38;5;28mself\u001b[39m,\n\u001b[0;32m   1656\u001b[0m         elem,\n\u001b[1;32m   (...)\u001b[0m\n\u001b[0;32m   1660\u001b[0m         ret,\n\u001b[0;32m   1661\u001b[0m     )\n",
      "File \u001b[1;32m~\\AppData\\Local\\Packages\\PythonSoftwareFoundation.Python.3.10_qbz5n2kfra8p0\\LocalCache\\local-packages\\Python310\\site-packages\\sqlalchemy\\engine\\base.py:1846\u001b[0m, in \u001b[0;36mConnection._execute_context\u001b[1;34m(self, dialect, constructor, statement, parameters, execution_options, *args, **kw)\u001b[0m\n\u001b[0;32m   1844\u001b[0m     \u001b[38;5;28;01mreturn\u001b[39;00m \u001b[38;5;28mself\u001b[39m\u001b[38;5;241m.\u001b[39m_exec_insertmany_context(dialect, context)\n\u001b[0;32m   1845\u001b[0m \u001b[38;5;28;01melse\u001b[39;00m:\n\u001b[1;32m-> 1846\u001b[0m     \u001b[38;5;28;01mreturn\u001b[39;00m \u001b[38;5;28;43mself\u001b[39;49m\u001b[38;5;241;43m.\u001b[39;49m\u001b[43m_exec_single_context\u001b[49m\u001b[43m(\u001b[49m\n\u001b[0;32m   1847\u001b[0m \u001b[43m        \u001b[49m\u001b[43mdialect\u001b[49m\u001b[43m,\u001b[49m\u001b[43m \u001b[49m\u001b[43mcontext\u001b[49m\u001b[43m,\u001b[49m\u001b[43m \u001b[49m\u001b[43mstatement\u001b[49m\u001b[43m,\u001b[49m\u001b[43m \u001b[49m\u001b[43mparameters\u001b[49m\n\u001b[0;32m   1848\u001b[0m \u001b[43m    \u001b[49m\u001b[43m)\u001b[49m\n",
      "File \u001b[1;32m~\\AppData\\Local\\Packages\\PythonSoftwareFoundation.Python.3.10_qbz5n2kfra8p0\\LocalCache\\local-packages\\Python310\\site-packages\\sqlalchemy\\engine\\base.py:1986\u001b[0m, in \u001b[0;36mConnection._exec_single_context\u001b[1;34m(self, dialect, context, statement, parameters)\u001b[0m\n\u001b[0;32m   1983\u001b[0m     result \u001b[38;5;241m=\u001b[39m context\u001b[38;5;241m.\u001b[39m_setup_result_proxy()\n\u001b[0;32m   1985\u001b[0m \u001b[38;5;28;01mexcept\u001b[39;00m \u001b[38;5;167;01mBaseException\u001b[39;00m \u001b[38;5;28;01mas\u001b[39;00m e:\n\u001b[1;32m-> 1986\u001b[0m     \u001b[38;5;28;43mself\u001b[39;49m\u001b[38;5;241;43m.\u001b[39;49m\u001b[43m_handle_dbapi_exception\u001b[49m\u001b[43m(\u001b[49m\n\u001b[0;32m   1987\u001b[0m \u001b[43m        \u001b[49m\u001b[43me\u001b[49m\u001b[43m,\u001b[49m\u001b[43m \u001b[49m\u001b[43mstr_statement\u001b[49m\u001b[43m,\u001b[49m\u001b[43m \u001b[49m\u001b[43meffective_parameters\u001b[49m\u001b[43m,\u001b[49m\u001b[43m \u001b[49m\u001b[43mcursor\u001b[49m\u001b[43m,\u001b[49m\u001b[43m \u001b[49m\u001b[43mcontext\u001b[49m\n\u001b[0;32m   1988\u001b[0m \u001b[43m    \u001b[49m\u001b[43m)\u001b[49m\n\u001b[0;32m   1990\u001b[0m \u001b[38;5;28;01mreturn\u001b[39;00m result\n",
      "File \u001b[1;32m~\\AppData\\Local\\Packages\\PythonSoftwareFoundation.Python.3.10_qbz5n2kfra8p0\\LocalCache\\local-packages\\Python310\\site-packages\\sqlalchemy\\engine\\base.py:2355\u001b[0m, in \u001b[0;36mConnection._handle_dbapi_exception\u001b[1;34m(self, e, statement, parameters, cursor, context, is_sub_exec)\u001b[0m\n\u001b[0;32m   2353\u001b[0m \u001b[38;5;28;01melif\u001b[39;00m should_wrap:\n\u001b[0;32m   2354\u001b[0m     \u001b[38;5;28;01massert\u001b[39;00m sqlalchemy_exception \u001b[38;5;129;01mis\u001b[39;00m \u001b[38;5;129;01mnot\u001b[39;00m \u001b[38;5;28;01mNone\u001b[39;00m\n\u001b[1;32m-> 2355\u001b[0m     \u001b[38;5;28;01mraise\u001b[39;00m sqlalchemy_exception\u001b[38;5;241m.\u001b[39mwith_traceback(exc_info[\u001b[38;5;241m2\u001b[39m]) \u001b[38;5;28;01mfrom\u001b[39;00m \u001b[38;5;21;01me\u001b[39;00m\n\u001b[0;32m   2356\u001b[0m \u001b[38;5;28;01melse\u001b[39;00m:\n\u001b[0;32m   2357\u001b[0m     \u001b[38;5;28;01massert\u001b[39;00m exc_info[\u001b[38;5;241m1\u001b[39m] \u001b[38;5;129;01mis\u001b[39;00m \u001b[38;5;129;01mnot\u001b[39;00m \u001b[38;5;28;01mNone\u001b[39;00m\n",
      "File \u001b[1;32m~\\AppData\\Local\\Packages\\PythonSoftwareFoundation.Python.3.10_qbz5n2kfra8p0\\LocalCache\\local-packages\\Python310\\site-packages\\sqlalchemy\\engine\\base.py:1936\u001b[0m, in \u001b[0;36mConnection._exec_single_context\u001b[1;34m(self, dialect, context, statement, parameters)\u001b[0m\n\u001b[0;32m   1934\u001b[0m                 \u001b[38;5;28;01mbreak\u001b[39;00m\n\u001b[0;32m   1935\u001b[0m     \u001b[38;5;28;01mif\u001b[39;00m \u001b[38;5;129;01mnot\u001b[39;00m evt_handled:\n\u001b[1;32m-> 1936\u001b[0m         \u001b[38;5;28;43mself\u001b[39;49m\u001b[38;5;241;43m.\u001b[39;49m\u001b[43mdialect\u001b[49m\u001b[38;5;241;43m.\u001b[39;49m\u001b[43mdo_executemany\u001b[49m\u001b[43m(\u001b[49m\n\u001b[0;32m   1937\u001b[0m \u001b[43m            \u001b[49m\u001b[43mcursor\u001b[49m\u001b[43m,\u001b[49m\n\u001b[0;32m   1938\u001b[0m \u001b[43m            \u001b[49m\u001b[43mstr_statement\u001b[49m\u001b[43m,\u001b[49m\n\u001b[0;32m   1939\u001b[0m \u001b[43m            \u001b[49m\u001b[43meffective_parameters\u001b[49m\u001b[43m,\u001b[49m\n\u001b[0;32m   1940\u001b[0m \u001b[43m            \u001b[49m\u001b[43mcontext\u001b[49m\u001b[43m,\u001b[49m\n\u001b[0;32m   1941\u001b[0m \u001b[43m        \u001b[49m\u001b[43m)\u001b[49m\n\u001b[0;32m   1942\u001b[0m \u001b[38;5;28;01melif\u001b[39;00m \u001b[38;5;129;01mnot\u001b[39;00m effective_parameters \u001b[38;5;129;01mand\u001b[39;00m context\u001b[38;5;241m.\u001b[39mno_parameters:\n\u001b[0;32m   1943\u001b[0m     \u001b[38;5;28;01mif\u001b[39;00m \u001b[38;5;28mself\u001b[39m\u001b[38;5;241m.\u001b[39mdialect\u001b[38;5;241m.\u001b[39m_has_events:\n",
      "File \u001b[1;32m~\\AppData\\Local\\Packages\\PythonSoftwareFoundation.Python.3.10_qbz5n2kfra8p0\\LocalCache\\local-packages\\Python310\\site-packages\\sqlalchemy\\dialects\\postgresql\\psycopg2.py:800\u001b[0m, in \u001b[0;36mPGDialect_psycopg2.do_executemany\u001b[1;34m(self, cursor, statement, parameters, context)\u001b[0m\n\u001b[0;32m    796\u001b[0m     \u001b[38;5;28mself\u001b[39m\u001b[38;5;241m.\u001b[39m_psycopg2_extras\u001b[38;5;241m.\u001b[39mexecute_batch(\n\u001b[0;32m    797\u001b[0m         cursor, statement, parameters, \u001b[38;5;241m*\u001b[39m\u001b[38;5;241m*\u001b[39mkwargs\n\u001b[0;32m    798\u001b[0m     )\n\u001b[0;32m    799\u001b[0m \u001b[38;5;28;01melse\u001b[39;00m:\n\u001b[1;32m--> 800\u001b[0m     \u001b[43mcursor\u001b[49m\u001b[38;5;241;43m.\u001b[39;49m\u001b[43mexecutemany\u001b[49m\u001b[43m(\u001b[49m\u001b[43mstatement\u001b[49m\u001b[43m,\u001b[49m\u001b[43m \u001b[49m\u001b[43mparameters\u001b[49m\u001b[43m)\u001b[49m\n",
      "\u001b[1;31mIntegrityError\u001b[0m: (psycopg2.errors.ForeignKeyViolation) insert or update on table \"accident\" violates foreign key constraint \"fk_accident_commune\"\nDETAIL:  Key (com)=(011) is not present in table \"commune\".\n\n[SQL: INSERT INTO silver.accident (num_acc,com,adr,datetime,year_georef) VALUES (%(num_acc)s,%(com)s,%(adr)s,%(datetime)s,%(year_georef)s)]\n[parameters: [{'num_acc': '201200000001', 'com': '011', 'adr': '33 Rue Roger Salengro', 'datetime': '2012-03-16T19:30:00+01:00', 'year_georef': '2015'}, {'num_acc': '201200000002', 'com': '011', 'adr': 'route de DON', 'datetime': '2012-09-01T21:45:00+02:00', 'year_georef': '2015'}, {'num_acc': '201200000003', 'com': '670', 'adr': 'rue Anatole France', 'datetime': '2012-11-20T18:15:00+01:00', 'year_georef': '2015'}, {'num_acc': '201200000004', 'com': '051', 'adr': \"Rue d'ESTAIRES\", 'datetime': '2012-01-07T19:15:00+01:00', 'year_georef': '2015'}, {'num_acc': '201200000005', 'com': '524', 'adr': 'Rue du Général Leclerc', 'datetime': '2012-01-17T20:00:00+01:00', 'year_georef': '2015'}, {'num_acc': '201200000006', 'com': '051', 'adr': '34 rue de la Marne', 'datetime': '2012-01-22T18:00:00+01:00', 'year_georef': '2015'}, {'num_acc': '201200000007', 'com': '051', 'adr': '13 RUE DE LENS', 'datetime': '2012-04-14T16:45:00+02:00', 'year_georef': '2015'}, {'num_acc': '201200000008', 'com': '524', 'adr': '533 Rue Gambetta', 'datetime': '2012-07-13T16:00:00+02:00', 'year_georef': '2015'}  ... displaying 10 of 475911 total bound parameter sets ...  {'num_acc': '201900058839', 'com': '78640', 'adr': 'A86 EXT', 'datetime': '2019-11-30T15:20:00+01:00', 'year_georef': '2019'}, {'num_acc': '201900058840', 'com': '92047', 'adr': 'A13', 'datetime': '2019-11-29T20:50:00+01:00', 'year_georef': '2019'}]]\n(Background on this error at: https://sqlalche.me/e/20/gkpj)"
     ]
    }
   ],
   "source": [
    "insert_data_to_db(df_accident, table_name='silver.accident', engine=engine)\n"
   ]
  }
 ],
 "metadata": {
  "kernelspec": {
   "display_name": "Python 3",
   "language": "python",
   "name": "python3"
  },
  "language_info": {
   "codemirror_mode": {
    "name": "ipython",
    "version": 3
   },
   "file_extension": ".py",
   "mimetype": "text/x-python",
   "name": "python",
   "nbconvert_exporter": "python",
   "pygments_lexer": "ipython3",
   "version": "3.10.11"
  }
 },
 "nbformat": 4,
 "nbformat_minor": 5
}
